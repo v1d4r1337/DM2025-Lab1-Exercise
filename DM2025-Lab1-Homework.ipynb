{
 "cells": [
  {
   "cell_type": "markdown",
   "metadata": {},
   "source": [
    "### Student Information\n",
    "Name:\n",
    "\n",
    "Student ID:\n",
    "\n",
    "GitHub ID:"
   ]
  },
  {
   "cell_type": "markdown",
   "metadata": {},
   "source": [
    "---"
   ]
  },
  {
   "cell_type": "markdown",
   "metadata": {},
   "source": [
    "### Instructions"
   ]
  },
  {
   "cell_type": "markdown",
   "metadata": {},
   "source": [
    "### First Phase Submission"
   ]
  },
  {
   "cell_type": "markdown",
   "metadata": {},
   "source": [
    "1. First: do the **take home** exercises in the [DM2025-Lab1-Master](https://github.com/leoson-wu/DM2025-Lab1-Exercise/blob/main/DM2025-Lab1-Master.ipynb) that considered as **phase 1 (from exercise 1 to exercise 15)**. You can answer in the master file. __This part is worth 10% of your grade.__\n",
    "\n",
    "\n",
    "2. Second: follow the same process from the [DM2025-Lab1-Master](https://github.com/leoson-wu/DM2025-Lab1-Exercise/blob/main/DM2025-Lab1-Master.ipynb) on **the new dataset** up **until phase 1**. You can skip some exercises if you think some steps are not necessary. However main exercises should be completed. You don't need to explain all details as we did (some **minimal comments** explaining your code are useful though).  __This part is worth 15% of your grade.__\n",
    "    -  Use [the new dataset](https://github.com/leoson-wu/DM2025-Lab1-Exercise/blob/main/newdataset/Reddit-stock-sentiment.csv). The dataset contains a 16 columns including 'text' and 'label', with the sentiment labels being: 1.0 is positive, 0.0 is neutral and -1.0 is negative. You can simplify the dataset and use only the columns that you think are necessary. \n",
    "    \n",
    "    - You are allowed to use and modify the `helper` functions in the folder of the first lab session (notice they may need modification) or create your own.\n",
    "    - Use this file to complete the homework from the second part. Make sure the code can be run from the beginning till the end and has all the needed output.\n",
    "\n",
    "\n",
    "3. Third: please attempt the following tasks on **the new dataset**. __This part is worth 10% of your grade.__\n",
    "    - Generate meaningful **new data visualizations**. Refer to online resources and the Data Mining textbook for inspiration and ideas. \n",
    "    \n",
    "\n",
    "\n",
    "4. Fourth: It's hard for us to follow if your code is messy, so please **tidy up your notebook** and **add minimal comments where needed**. __This part is worth 5% of your grade.__\n",
    "\n",
    "You can submit your homework following these guidelines: [DM2025-Lab1-announcement](https://github.com/leoson-wu/DM2025-Lab1-Announcement/blob/main/README.md). Make sure to commit and save your changes to your repository __BEFORE the deadline (September 28th 11:59 pm, Sunday)__. "
   ]
  },
  {
   "cell_type": "markdown",
   "metadata": {},
   "source": [
    "### Second Phase Submission "
   ]
  },
  {
   "cell_type": "markdown",
   "metadata": {},
   "source": [
    "**You can keep the answer for phase 1 for easier running and update the phase 2 on the same page.**\n",
    "\n",
    "1. First: Continue doing the **take home** exercises in the [DM2025-Lab1-Master](https://github.com/leoson-wu/DM2025-Lab1-Exercise/blob/main/DM2025-Lab1-Master.ipynb) for **phase 2, starting from Finding frequent patterns**. Use the same master(.ipynb) file. Answer from phase 1 will not be considered at this stage. You can answer in the master file. __This part is worth 10% of your grade.__\n",
    "\n",
    "\n",
    "2. Second: Continue from first phase and do the same process from the [DM2025-Lab1-Master](https://github.com/leoson-wu/DM2025-Lab1-Exercise/blob/main/DM2025-Lab1-Master.ipynb) on **the new dataset** for phase 2, starting from Finding frequent pattern. You can skip some exercises if you think some steps are not necessary. However main exercises should be completed. You don't need to explain all details as we did (some **minimal comments** explaining your code are useful though).  __This part is worth 15% of your grade.__\n",
    "    - Continue using this file to complete the homework from the second part. Make sure the code can be run from the beginning till the end and has all the needed output. Use the same new dataset as in phase 1.\n",
    "    \n",
    "    - You are allowed to use and modify the `helper` functions in the folder of the first lab session (notice they may need modification) or create your own.\n",
    "\n",
    "3. Third: please attempt the following tasks on **the new dataset**. __This part is worth 20% of your grade.__\n",
    "    - Use this file to answer.\n",
    "    - Generate **TF-IDF features** from the tokens of each text. This will generating a document matrix, however, the weights will be computed differently (using the TF-IDF value of each word per document as opposed to the word frequency).  Refer to this Scikit-learn [guide](http://scikit-learn.org/stable/modules/generated/sklearn.feature_extraction.text.TfidfVectorizer.html) .\n",
    "    - Implement a simple **Naive Bayes classifier** that automatically classifies the records into their categories. Use both the TF-IDF features and word frequency features to build two seperate classifiers. Note that for the TF-IDF features you might need to use other type of NB classifier different than the one in the Master Notebook. Comment on the differences and when using augmentation with feature pattern.  Refer to this [article](https://hub.packtpub.com/implementing-3-naive-bayes-classifiers-in-scikit-learn/).\n",
    "\n",
    "\n",
    "4. Fourth: In the lab, we applied each step really quickly just to illustrate how to work with your dataset. There are somethings that are not ideal or the most efficient/meaningful. Each dataset can be handled differently as well. What are those inefficent parts you noticed? How can you improve the Data preprocessing for these specific datasets? __This part is worth 10% of your grade.__\n",
    "\n",
    "\n",
    "5. Fifth: It's hard for us to follow if your code is messy, so please **tidy up your notebook** and **add minimal comments where needed**. __This part is worth 5% of your grade.__\n",
    "\n",
    "\n",
    "You can submit your homework following these guidelines: [DM2025-Lab1-announcement](https://github.com/leoson-wu/DM2025-Lab1-Announcement/blob/main/README.md). Make sure to commit and save your changes to your repository __BEFORE the deadline (October 19th 11:59 pm, Sunday)__. "
   ]
  },
  {
   "cell_type": "markdown",
   "metadata": {},
   "source": [
    "# Phase 1"
   ]
  },
  {
   "cell_type": "markdown",
   "metadata": {},
   "source": [
    "# Load data"
   ]
  },
  {
   "cell_type": "code",
   "execution_count": 136,
   "metadata": {},
   "outputs": [
    {
     "name": "stderr",
     "output_type": "stream",
     "text": [
      "[nltk_data] Downloading package punkt to /home/oogway/nltk_data...\n",
      "[nltk_data]   Package punkt is already up-to-date!\n"
     ]
    }
   ],
   "source": [
    "import pandas as pd\n",
    "import numpy as np\n",
    "import nltk\n",
    "nltk.download('punkt') # download the NLTK datasets\n",
    "from sklearn.datasets import fetch_20newsgroups\n",
    "from sklearn.feature_extraction.text import CountVectorizer\n",
    "import plotly as py\n",
    "import math\n",
    "import helpers.data_mining_helpers as dmh\n",
    "from sklearn.feature_extraction.text import CountVectorizer\n",
    "\n",
    "\n",
    "# load data\n",
    "new_data_set_file = \"./newdataset/Reddit-stock-sentiment.csv\"\n",
    "df = pd.read_csv(new_data_set_file)[[\"text\", \"label\"]]"
   ]
  },
  {
   "cell_type": "markdown",
   "metadata": {},
   "source": [
    "# Data exploration"
   ]
  },
  {
   "cell_type": "code",
   "execution_count": 74,
   "metadata": {},
   "outputs": [
    {
     "name": "stdout",
     "output_type": "stream",
     "text": [
      "                                                  text  label\n",
      "664  Take note of every publication pushing it. Eve...   -1.0\n",
      "626       Isn’t the RMB pegged somewhat to the dollar.    0.0\n",
      "397  Yup 2025 requires the world to use the US doll...    0.0\n",
      "67                                        Oh my gourd!    0.0\n",
      "164  The bond market is also begging for that call....    0.0\n",
      "322  Lots of food, oil and gas, which can be replac...   -1.0\n",
      "241  $90k -> $1M if the fed cuts rates >25bps. Fell...    0.0\n",
      "303  Are these pumps n dump or are these things we ...   -1.0\n",
      "635  To be fair  - Jerome Powell \"inflation is tran...    0.0\n",
      "544                                               Bad.   -1.0\n",
      "\n",
      "\n",
      "============================== Begin number: 1 ==============================\n",
      "Calls on retards\n",
      "============================== End number: 1 ============================== \n",
      "\n",
      "============================== Begin number: 2 ==============================\n",
      "Stunt as in like why did they even make a big deal about starting it in the first place? No company should ever talk about politics ever.\n",
      "============================== End number: 2 ============================== \n",
      "\n",
      "============================== Begin number: 3 ==============================\n",
      "Seeing lots of red in the ticker.\n",
      "============================== End number: 3 ============================== \n",
      "\n",
      "============================== Begin number: 4 ==============================\n",
      "Vision Marine Technologies Inc. is rewriting the watercraft rulebook. Their collaboration with Shaun Torrente has achieved the unthinkable – a blazing 116 mph on water! This isn't just about speed; it's about propelling electric boating into a new era. Their cutting-edge technology, combined with Torrente's skill, is making waves that'll ripple for generations.\n",
      "\n",
      "**Highlight Main Points**\n",
      "\n",
      "* Vision Marine Technologies Inc. achieves a record-breaking 116 mph speed on water with Shaun Torrente.\n",
      "* The feat highlights the power of electric boating and pushes the limits of innovation.\n",
      "* Partners like Octillion Power Systems and Danfoss Editron contribute to this groundbreaking achievement.\n",
      "\n",
      "**TLDR**\n",
      "\n",
      "Hold onto your seats – Vision Marine Technologies Inc. and Shaun Torrente have shattered the water-speed record at an astonishing 116 mph!  This isn't just about speed; it's about pioneering electric boating and innovation. The collaboration of technology, skill, and passion is creating ripples that'll be felt for years to come in the world of watercraft.\n",
      "\n",
      "[]()\n",
      "============================== End number: 4 ============================== \n",
      "\n",
      "============================== Begin number: 5 ==============================\n",
      "He didn’t say thank you.\n",
      "============================== End number: 5 ============================== \n",
      "\n"
     ]
    }
   ],
   "source": [
    "print(df.sample(n=10))\n",
    "print(\"\\n\")\n",
    "\n",
    "i = 1\n",
    "linebreaker = \"=\"*30\n",
    "for text in df.head(n=5)[\"text\"]:\n",
    "    print(f\"{linebreaker} Begin number: {i} {linebreaker}\")\n",
    "    print(f\"{text}\")\n",
    "    print(f\"{linebreaker} End number: {i} {linebreaker} \\n\")\n",
    "    i=i+1\n"
   ]
  },
  {
   "cell_type": "code",
   "execution_count": 84,
   "metadata": {},
   "outputs": [
    {
     "name": "stdout",
     "output_type": "stream",
     "text": [
      "                                                  text  label\n",
      "42   So they went from saying redditors are bad for...    1.0\n",
      "349       Updated Daily by EOD\\n\\n  \\n[Daily Shorts]()    0.0\n",
      "352  how does the futures market look today\\n\\nSPY,...    0.0\n",
      "387  This data is from FINRA ATS - Updated Weekly\\n...    0.0\n",
      "432  &#x200B;\\n\\n [Cryptocurrency Prices, Charts, D...    0.0\n",
      "438  Summarized with Highlights, updated weekly be ...    0.0\n",
      "462  This data is from FINRA ATS - Updated Weekly\\n...    0.0\n",
      "473  how does the futures market look today\\n\\nSPY,...    0.0\n",
      "520       Updated Daily by EOD\\n\\n  \\n[Daily Shorts]()    0.0\n",
      "541  \\n\\n [Threshold (stockbuyvest.com)]() \\n\\n$AMC...    0.0\n",
      "583  Stocks that are trending up today\\n\\n [Popping...    0.0\n",
      "588  This data is from FINRA ATS - Updated Weekly\\n...    0.0\n",
      "595  &#x200B;\\n\\n [Cryptocurrency Prices, Charts, D...    0.0\n",
      "679  &#x200B;\\n\\n [Cryptocurrency Prices, Charts, D...    0.0\n",
      "680         \\n\\n  [World Markets (stockbuyvest.com)]()    0.0\n",
      "697       Updated Daily by EOD\\n\\n  \\n[Daily Shorts]()    0.0\n",
      "712         \\n\\n  [World Markets (stockbuyvest.com)]()    0.0\n",
      "717  &#x200B;\\n\\n [Cryptocurrency Prices, Charts, D...    0.0\n",
      "783  Gappers for today\\n\\n [Gappers (stockbuyvest.c...    0.0\n",
      "786  Upgrades, Downgrades\\n\\n [Stock Analyst Recomm...    0.0\n",
      "802  Gappers for today\\n\\n [Gappers (stockbuyvest.c...    0.0\n",
      "836  how does the futures market look today\\n\\nSPY,...    0.0\n",
      "844  Upgrades, Downgrades\\n\\n [Stock Analyst Recomm...    0.0\n",
      "23\n"
     ]
    },
    {
     "data": {
      "text/html": [
       "<div>\n",
       "<style scoped>\n",
       "    .dataframe tbody tr th:only-of-type {\n",
       "        vertical-align: middle;\n",
       "    }\n",
       "\n",
       "    .dataframe tbody tr th {\n",
       "        vertical-align: top;\n",
       "    }\n",
       "\n",
       "    .dataframe thead th {\n",
       "        text-align: right;\n",
       "    }\n",
       "</style>\n",
       "<table border=\"1\" class=\"dataframe\">\n",
       "  <thead>\n",
       "    <tr style=\"text-align: right;\">\n",
       "      <th></th>\n",
       "      <th>text</th>\n",
       "      <th>label</th>\n",
       "    </tr>\n",
       "  </thead>\n",
       "  <tbody>\n",
       "    <tr>\n",
       "      <th>0</th>\n",
       "      <td>The amoung of missing records is:</td>\n",
       "      <td>The amoung of missing records is:</td>\n",
       "    </tr>\n",
       "    <tr>\n",
       "      <th>1</th>\n",
       "      <td>0</td>\n",
       "      <td>0</td>\n",
       "    </tr>\n",
       "  </tbody>\n",
       "</table>\n",
       "</div>"
      ],
      "text/plain": [
       "                                 text                               label\n",
       "0  The amoung of missing records is:   The amoung of missing records is: \n",
       "1                                   0                                   0"
      ]
     },
     "execution_count": 84,
     "metadata": {},
     "output_type": "execute_result"
    }
   ],
   "source": [
    "# Check for empty elements\n",
    "\n",
    "# df[df.isnull()==False]\n",
    "dups_df = df[df.duplicated()==True]\n",
    "print(dups_df)\n",
    "print(len(dups_df))\n",
    "\n",
    "df.isnull().apply(lambda x: dmh.check_missing_values(x))\n",
    "\n",
    "#df[df.notna()[[\"text\", \"label\"]] == False]"
   ]
  },
  {
   "cell_type": "markdown",
   "metadata": {},
   "source": [
    "# Data cleaning"
   ]
  },
  {
   "cell_type": "code",
   "execution_count": 96,
   "metadata": {},
   "outputs": [
    {
     "name": "stdout",
     "output_type": "stream",
     "text": [
      "                                                  text  label\n",
      "0                                     Calls on retards   -1.0\n",
      "1    Stunt as in like why did they even make a big ...    0.0\n",
      "2                    Seeing lots of red in the ticker.    0.0\n",
      "3    Vision Marine Technologies Inc. is rewriting t...    1.0\n",
      "4                             He didn’t say thank you.   -1.0\n",
      "..                                                 ...    ...\n",
      "841  So countries “begging to stop the tariffs” and...    1.0\n",
      "842        Invest now it is going to shoot up tomorrow    1.0\n",
      "843                             Where can I read this?    0.0\n",
      "845  i sold my puts so i expect cheeto to declare w...   -1.0\n",
      "846                       ![img](emote|t5_2th52|31224)    0.0\n",
      "\n",
      "[824 rows x 2 columns]\n"
     ]
    }
   ],
   "source": [
    "# Seems like we do not have missing value in our columns but we have duplicates\n",
    "# lets drop those\n",
    "\n",
    "clean_df = df.drop_duplicates()\n",
    "print(clean_df)"
   ]
  },
  {
   "cell_type": "markdown",
   "metadata": {},
   "source": [
    "# Sampling"
   ]
  },
  {
   "cell_type": "code",
   "execution_count": 125,
   "metadata": {},
   "outputs": [
    {
     "data": {
      "text/plain": [
       "<Axes: title={'center': 'Label distribution'}, xlabel='label'>"
      ]
     },
     "execution_count": 125,
     "metadata": {},
     "output_type": "execute_result"
    },
    {
     "data": {
      "image/png": "[encoded data removed]",
      "text/plain": [
       "<Figure size 800x300 with 1 Axes>"
      ]
     },
     "metadata": {},
     "output_type": "display_data"
    }
   ],
   "source": [
    "# Since this is a smaller dataset, maybe we dont need sampling\n",
    "# But we can sample for fun and see if it has the same label distribution\n",
    "\n",
    "df[\"label\"].value_counts().plot(kind = 'bar',\n",
    "                                           title = 'Label distribution',\n",
    "                                           ylim = [0, 800], \n",
    "                                           rot = 0, fontsize = 12, figsize = (8,3))\n"
   ]
  },
  {
   "cell_type": "code",
   "execution_count": 124,
   "metadata": {},
   "outputs": [
    {
     "data": {
      "text/plain": [
       "<Axes: title={'center': 'Label distribution'}, xlabel='label'>"
      ]
     },
     "execution_count": 124,
     "metadata": {},
     "output_type": "execute_result"
    },
    {
     "data": {
      "image/png": "[encoded data removed]",
      "text/plain": [
       "<Figure size 800x300 with 1 Axes>"
      ]
     },
     "metadata": {},
     "output_type": "display_data"
    }
   ],
   "source": [
    "df_sample = df.sample(n=100)\n",
    "\n",
    "df_sample[\"label\"].value_counts().plot(kind = 'bar',\n",
    "                                           title = 'Label distribution',\n",
    "                                           ylim = [0, 100], \n",
    "                                           rot = 0, fontsize = 12, figsize = (8,3))\n",
    "\n"
   ]
  },
  {
   "cell_type": "markdown",
   "metadata": {},
   "source": [
    "# Feature extraction"
   ]
  },
  {
   "cell_type": "code",
   "execution_count": 132,
   "metadata": {},
   "outputs": [
    {
     "name": "stderr",
     "output_type": "stream",
     "text": [
      "[nltk_data] Downloading package stopwords to /home/oogway/nltk_data...\n",
      "[nltk_data]   Package stopwords is already up-to-date!\n"
     ]
    },
    {
     "data": {
      "text/plain": [
       "True"
      ]
     },
     "execution_count": 132,
     "metadata": {},
     "output_type": "execute_result"
    }
   ],
   "source": [
    "# Download stop words\n",
    "from nltk.corpus import stopwords\n",
    "nltk.download(\"stopwords\")"
   ]
  },
  {
   "cell_type": "markdown",
   "metadata": {},
   "source": [
    "# Create document term matrix"
   ]
  },
  {
   "cell_type": "code",
   "execution_count": 154,
   "metadata": {},
   "outputs": [
    {
     "name": "stdout",
     "output_type": "stream",
     "text": [
      "<class 'scipy.sparse._csr.csr_matrix'>\n"
     ]
    }
   ],
   "source": [
    "count_vect = CountVectorizer()\n",
    "df_counts = count_vect.fit_transform(df[\"text\"])\n",
    "print(type(df_counts))\n"
   ]
  },
  {
   "cell_type": "markdown",
   "metadata": {},
   "source": [
    "# Clean document term matrix"
   ]
  },
  {
   "cell_type": "code",
   "execution_count": 185,
   "metadata": {},
   "outputs": [
    {
     "name": "stdout",
     "output_type": "stream",
     "text": [
      "     0     1     2     3     4     5     6     7     8     9     ...  4331  \\\n",
      "0       0     0     0     0     0     0     0     0     0     0  ...     0   \n",
      "1       0     0     0     0     0     0     0     0     0     0  ...     0   \n",
      "2       0     0     0     0     0     0     0     0     0     0  ...     0   \n",
      "3       0     0     0     0     0     0     0     0     0     0  ...     0   \n",
      "4       0     0     0     0     0     0     0     0     0     0  ...     0   \n",
      "..    ...   ...   ...   ...   ...   ...   ...   ...   ...   ...  ...   ...   \n",
      "842     0     0     0     0     0     0     0     0     0     0  ...     0   \n",
      "843     0     0     0     0     0     0     0     0     0     0  ...     0   \n",
      "844     0     0     0     0     0     0     0     0     0     0  ...     0   \n",
      "845     0     0     0     0     0     0     0     0     0     0  ...     0   \n",
      "846     0     0     0     0     0     0     0     0     0     0  ...     0   \n",
      "\n",
      "     4332  4334  4339  4340  4341  4342  4343  4344  4345  \n",
      "0       0     0     0     0     0     0     0     0     0  \n",
      "1       0     0     0     0     0     0     0     0     0  \n",
      "2       0     0     0     0     0     0     0     0     0  \n",
      "3       0     0     0     0     0     0     0     0     0  \n",
      "4       0     0     0     0     0     0     0     0     0  \n",
      "..    ...   ...   ...   ...   ...   ...   ...   ...   ...  \n",
      "842     0     0     0     0     0     0     0     0     0  \n",
      "843     0     0     0     0     0     0     0     0     0  \n",
      "844     0     0     0     0     0     0     0     0     0  \n",
      "845     0     0     0     0     0     0     0     0     0  \n",
      "846     0     0     0     0     0     0     0     0     0  \n",
      "\n",
      "[847 rows x 4215 columns]\n"
     ]
    }
   ],
   "source": [
    "document_df = pd.DataFrame(df_counts.toarray())\n",
    "stop_words = set(stopwords.words(\"english\"))\n",
    "feature_names = count_vect.get_feature_names_out()\n",
    "droplist = [i for i in document_df.columns if feature_names[i] in stop_words]\n",
    "cleaned_dt_df = document_df.drop(droplist, axis=1)\n",
    "\n",
    "\n",
    "print(cleaned_dt_df)\n",
    "\n"
   ]
  },
  {
   "cell_type": "markdown",
   "metadata": {},
   "source": [
    "# \"Meaningful\" visualisations"
   ]
  },
  {
   "cell_type": "code",
   "execution_count": null,
   "metadata": {},
   "outputs": [],
   "source": [
    "# Kolla vilka termer som är associerade med +1 och vilka som är associerade mest med -1\n",
    "\n",
    "cleaned_dt_df\n"
   ]
  },
  {
   "cell_type": "markdown",
   "metadata": {},
   "source": [
    "# Phase 2"
   ]
  },
  {
   "cell_type": "code",
   "execution_count": null,
   "metadata": {},
   "outputs": [],
   "source": [
    "### Begin Assignment Here"
   ]
  }
 ],
 "metadata": {
  "kernelspec": {
   "display_name": "Python 3 (ipykernel)",
   "language": "python",
   "name": "python3"
  },
  "language_info": {
   "codemirror_mode": {
    "name": "ipython",
    "version": 3
   },
   "file_extension": ".py",
   "mimetype": "text/x-python",
   "name": "python",
   "nbconvert_exporter": "python",
   "pygments_lexer": "ipython3",
   "version": "3.13.7"
  }
 },
 "nbformat": 4,
 "nbformat_minor": 4
}
